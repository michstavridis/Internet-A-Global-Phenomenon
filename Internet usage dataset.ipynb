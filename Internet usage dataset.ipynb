{
 "cells": [
  {
   "cell_type": "markdown",
   "id": "baa3782d-2e99-4565-8cb8-c13beed8523c",
   "metadata": {},
   "source": [
    "This dataset contains information on internet access around the world.\n",
    "\n",
    "The workspace is set up with two CSV files containing information on global internet access for years ranging from 1990 to 2020.\n",
    "\n",
    "- `internet_users.csv`\n",
    "    - `users` - The number of people who have used the internet in the last three months\n",
    "    - `share` - The share of the entity's population who have used the internet in the last three months\n",
    "- `adoption.csv`\n",
    "    - `fixed_telephone_subs` - The number of people who have a telephone landline connection\n",
    "    - `fixed_telephone_subs_share` - The share of the entity's population who have a telephone landline connection\n",
    "    - `fixed_broadband_subs` - The number of people who have a broadband internet landline connection\n",
    "    - `fixed_broadband_subs_share` - The share of the entity's population who have a broadband internet landline connection\n",
    "    - `mobile_cell_subs` - The number of people who have a mobile subscription\n",
    "    - `mobile_cell_subs_share` - The share of the entity's population who have a mobile subscription\n",
    "\n",
    "Both data files are indexed on the following 3 attributes:\n",
    "\n",
    "`entity` - The name of the country, region, or group.\n",
    "`code` - Unique id for the country (null for other entities).\n",
    "`year` - Year from 1990 to 2020.\n",
    "\n",
    "#Source: [Our World In Data](https://ourworldindata.org/internet)"
   ]
  },
  {
   "cell_type": "markdown",
   "id": "8abb3404-93c6-47d5-a74a-16a3051be98b",
   "metadata": {},
   "source": [
    "\n",
    "**Objective**: Construct a top 5 list of countries where there is a big opportunity to roll out our services. \n",
    "Try to consider the amount of people not  having access to (good) wired or mobile internet and their spending power."
   ]
  },
  {
   "cell_type": "code",
   "execution_count": 9,
   "id": "e37375d1-c688-4222-9139-2ac8f15be0b4",
   "metadata": {
    "executionCancelledAt": null,
    "executionTime": 49,
    "lastExecutedAt": 1695461825869,
    "lastScheduledRunId": null,
    "lastSuccessfullyExecutedCode": "import os\nimport pandas as pd\n\ninternet_users = pd.read_csv('internet_users.csv')\ninternet_users.head()",
    "outputsMetadata": {
     "0": {
      "height": 190,
      "type": "dataFrame"
     }
    }
   },
   "outputs": [
    {
     "data": {
      "text/html": [
       "<div>\n",
       "<style scoped>\n",
       "    .dataframe tbody tr th:only-of-type {\n",
       "        vertical-align: middle;\n",
       "    }\n",
       "\n",
       "    .dataframe tbody tr th {\n",
       "        vertical-align: top;\n",
       "    }\n",
       "\n",
       "    .dataframe thead th {\n",
       "        text-align: right;\n",
       "    }\n",
       "</style>\n",
       "<table border=\"1\" class=\"dataframe\">\n",
       "  <thead>\n",
       "    <tr style=\"text-align: right;\">\n",
       "      <th></th>\n",
       "      <th>entity</th>\n",
       "      <th>code</th>\n",
       "      <th>year</th>\n",
       "      <th>users</th>\n",
       "      <th>share</th>\n",
       "    </tr>\n",
       "  </thead>\n",
       "  <tbody>\n",
       "    <tr>\n",
       "      <th>0</th>\n",
       "      <td>Afghanistan</td>\n",
       "      <td>AFG</td>\n",
       "      <td>1991</td>\n",
       "      <td>0</td>\n",
       "      <td>0.000000</td>\n",
       "    </tr>\n",
       "    <tr>\n",
       "      <th>1</th>\n",
       "      <td>Afghanistan</td>\n",
       "      <td>AFG</td>\n",
       "      <td>1992</td>\n",
       "      <td>0</td>\n",
       "      <td>0.000000</td>\n",
       "    </tr>\n",
       "    <tr>\n",
       "      <th>2</th>\n",
       "      <td>Afghanistan</td>\n",
       "      <td>AFG</td>\n",
       "      <td>1993</td>\n",
       "      <td>0</td>\n",
       "      <td>0.000000</td>\n",
       "    </tr>\n",
       "    <tr>\n",
       "      <th>3</th>\n",
       "      <td>Afghanistan</td>\n",
       "      <td>AFG</td>\n",
       "      <td>1994</td>\n",
       "      <td>0</td>\n",
       "      <td>0.000000</td>\n",
       "    </tr>\n",
       "    <tr>\n",
       "      <th>4</th>\n",
       "      <td>Afghanistan</td>\n",
       "      <td>AFG</td>\n",
       "      <td>2001</td>\n",
       "      <td>930</td>\n",
       "      <td>0.004723</td>\n",
       "    </tr>\n",
       "  </tbody>\n",
       "</table>\n",
       "</div>"
      ],
      "text/plain": [
       "        entity code  year  users     share\n",
       "0  Afghanistan  AFG  1991      0  0.000000\n",
       "1  Afghanistan  AFG  1992      0  0.000000\n",
       "2  Afghanistan  AFG  1993      0  0.000000\n",
       "3  Afghanistan  AFG  1994      0  0.000000\n",
       "4  Afghanistan  AFG  2001    930  0.004723"
      ]
     },
     "execution_count": 9,
     "metadata": {},
     "output_type": "execute_result"
    }
   ],
   "source": [
    "import os\n",
    "import pandas as pd\n",
    "\n",
    "internet_users = pd.read_csv('internet_users.csv')\n",
    "internet_users.head()"
   ]
  },
  {
   "cell_type": "code",
   "execution_count": 33,
   "id": "dba7dfb9-d433-4c54-83c5-551173e89d7d",
   "metadata": {
    "executionCancelledAt": null,
    "executionTime": 48,
    "lastExecutedAt": 1695461825917,
    "lastScheduledRunId": null,
    "lastSuccessfullyExecutedCode": "adoption = pd.read_csv('adoption.csv')\nadoption.head()",
    "outputsMetadata": {
     "0": {
      "height": 190,
      "type": "dataFrame"
     }
    }
   },
   "outputs": [
    {
     "data": {
      "application/com.datacamp.data-table.v1+json": {
       "table": {
        "data": [
         {
          "code": "AFG",
          "entity": "Afghanistan",
          "fixed_broadband_subs": null,
          "fixed_broadband_subs_share": null,
          "fixed_telephone_subs": 7700,
          "fixed_telephone_subs_share": 0.0893016,
          "index": 0,
          "mobile_cell_subs": 0,
          "mobile_cell_subs_share": 0,
          "year": 1960
         },
         {
          "code": "AFG",
          "entity": "Afghanistan",
          "fixed_broadband_subs": null,
          "fixed_broadband_subs_share": null,
          "fixed_telephone_subs": 7700,
          "fixed_telephone_subs_share": 0.0855843,
          "index": 1,
          "mobile_cell_subs": null,
          "mobile_cell_subs_share": null,
          "year": 1961
         },
         {
          "code": "AFG",
          "entity": "Afghanistan",
          "fixed_broadband_subs": null,
          "fixed_broadband_subs_share": null,
          "fixed_telephone_subs": 7700,
          "fixed_telephone_subs_share": 0.0855843,
          "index": 2,
          "mobile_cell_subs": null,
          "mobile_cell_subs_share": null,
          "year": 1962
         },
         {
          "code": "AFG",
          "entity": "Afghanistan",
          "fixed_broadband_subs": null,
          "fixed_broadband_subs_share": null,
          "fixed_telephone_subs": 7700,
          "fixed_telephone_subs_share": 0.0855843,
          "index": 3,
          "mobile_cell_subs": null,
          "mobile_cell_subs_share": null,
          "year": 1963
         },
         {
          "code": "AFG",
          "entity": "Afghanistan",
          "fixed_broadband_subs": null,
          "fixed_broadband_subs_share": null,
          "fixed_telephone_subs": 7700,
          "fixed_telephone_subs_share": 0.0855843,
          "index": 4,
          "mobile_cell_subs": null,
          "mobile_cell_subs_share": null,
          "year": 1964
         }
        ],
        "schema": {
         "fields": [
          {
           "name": "index",
           "type": "integer"
          },
          {
           "name": "entity",
           "type": "string"
          },
          {
           "name": "code",
           "type": "string"
          },
          {
           "name": "year",
           "type": "integer"
          },
          {
           "name": "fixed_telephone_subs",
           "type": "number"
          },
          {
           "name": "fixed_telephone_subs_share",
           "type": "number"
          },
          {
           "name": "fixed_broadband_subs",
           "type": "number"
          },
          {
           "name": "fixed_broadband_subs_share",
           "type": "number"
          },
          {
           "name": "mobile_cell_subs",
           "type": "number"
          },
          {
           "name": "mobile_cell_subs_share",
           "type": "number"
          }
         ],
         "pandas_version": "1.4.0",
         "primaryKey": [
          "index"
         ]
        }
       },
       "total_rows": 5,
       "truncation_type": null
      },
      "text/html": [
       "<div>\n",
       "<style scoped>\n",
       "    .dataframe tbody tr th:only-of-type {\n",
       "        vertical-align: middle;\n",
       "    }\n",
       "\n",
       "    .dataframe tbody tr th {\n",
       "        vertical-align: top;\n",
       "    }\n",
       "\n",
       "    .dataframe thead th {\n",
       "        text-align: right;\n",
       "    }\n",
       "</style>\n",
       "<table border=\"1\" class=\"dataframe\">\n",
       "  <thead>\n",
       "    <tr style=\"text-align: right;\">\n",
       "      <th></th>\n",
       "      <th>entity</th>\n",
       "      <th>code</th>\n",
       "      <th>year</th>\n",
       "      <th>fixed_telephone_subs</th>\n",
       "      <th>fixed_telephone_subs_share</th>\n",
       "      <th>fixed_broadband_subs</th>\n",
       "      <th>fixed_broadband_subs_share</th>\n",
       "      <th>mobile_cell_subs</th>\n",
       "      <th>mobile_cell_subs_share</th>\n",
       "    </tr>\n",
       "  </thead>\n",
       "  <tbody>\n",
       "    <tr>\n",
       "      <th>0</th>\n",
       "      <td>Afghanistan</td>\n",
       "      <td>AFG</td>\n",
       "      <td>1960</td>\n",
       "      <td>7700.0</td>\n",
       "      <td>0.089302</td>\n",
       "      <td>NaN</td>\n",
       "      <td>NaN</td>\n",
       "      <td>0.0</td>\n",
       "      <td>0.0</td>\n",
       "    </tr>\n",
       "    <tr>\n",
       "      <th>1</th>\n",
       "      <td>Afghanistan</td>\n",
       "      <td>AFG</td>\n",
       "      <td>1961</td>\n",
       "      <td>7700.0</td>\n",
       "      <td>0.085584</td>\n",
       "      <td>NaN</td>\n",
       "      <td>NaN</td>\n",
       "      <td>NaN</td>\n",
       "      <td>NaN</td>\n",
       "    </tr>\n",
       "    <tr>\n",
       "      <th>2</th>\n",
       "      <td>Afghanistan</td>\n",
       "      <td>AFG</td>\n",
       "      <td>1962</td>\n",
       "      <td>7700.0</td>\n",
       "      <td>0.085584</td>\n",
       "      <td>NaN</td>\n",
       "      <td>NaN</td>\n",
       "      <td>NaN</td>\n",
       "      <td>NaN</td>\n",
       "    </tr>\n",
       "    <tr>\n",
       "      <th>3</th>\n",
       "      <td>Afghanistan</td>\n",
       "      <td>AFG</td>\n",
       "      <td>1963</td>\n",
       "      <td>7700.0</td>\n",
       "      <td>0.085584</td>\n",
       "      <td>NaN</td>\n",
       "      <td>NaN</td>\n",
       "      <td>NaN</td>\n",
       "      <td>NaN</td>\n",
       "    </tr>\n",
       "    <tr>\n",
       "      <th>4</th>\n",
       "      <td>Afghanistan</td>\n",
       "      <td>AFG</td>\n",
       "      <td>1964</td>\n",
       "      <td>7700.0</td>\n",
       "      <td>0.085584</td>\n",
       "      <td>NaN</td>\n",
       "      <td>NaN</td>\n",
       "      <td>NaN</td>\n",
       "      <td>NaN</td>\n",
       "    </tr>\n",
       "  </tbody>\n",
       "</table>\n",
       "</div>"
      ],
      "text/plain": [
       "        entity code  ...  mobile_cell_subs  mobile_cell_subs_share\n",
       "0  Afghanistan  AFG  ...               0.0                     0.0\n",
       "1  Afghanistan  AFG  ...               NaN                     NaN\n",
       "2  Afghanistan  AFG  ...               NaN                     NaN\n",
       "3  Afghanistan  AFG  ...               NaN                     NaN\n",
       "4  Afghanistan  AFG  ...               NaN                     NaN\n",
       "\n",
       "[5 rows x 9 columns]"
      ]
     },
     "execution_count": 33,
     "metadata": {},
     "output_type": "execute_result"
    }
   ],
   "source": [
    "adoption = pd.read_csv('adoption.csv')\n",
    "adoption.head()"
   ]
  },
  {
   "cell_type": "markdown",
   "id": "d21a86dd",
   "metadata": {},
   "source": [
    "## What are the top 5 countries with the highest internet use (by population share)?"
   ]
  },
  {
   "cell_type": "code",
   "execution_count": 23,
   "id": "aa5af91a-1f4c-433e-a0cd-f0facf061beb",
   "metadata": {
    "executionCancelledAt": null,
    "executionTime": 49,
    "lastExecutedAt": 1695462421577,
    "lastScheduledRunId": null,
    "lastSuccessfullyExecutedCode": "top_5_countries = internet_users.groupby('entity')['share'].sum()\ntop_5_countries.nlargest(5)",
    "scrolled": true
   },
   "outputs": [
    {
     "ename": "NameError",
     "evalue": "name 'internet_users' is not defined",
     "output_type": "error",
     "traceback": [
      "\u001b[1;31m---------------------------------------------------------------------------\u001b[0m",
      "\u001b[1;31mNameError\u001b[0m                                 Traceback (most recent call last)",
      "Cell \u001b[1;32mIn[23], line 1\u001b[0m\n\u001b[1;32m----> 1\u001b[0m top_5_countries \u001b[38;5;241m=\u001b[39m internet_users\u001b[38;5;241m.\u001b[39mgroupby(\u001b[38;5;124m'\u001b[39m\u001b[38;5;124mentity\u001b[39m\u001b[38;5;124m'\u001b[39m)[\u001b[38;5;124m'\u001b[39m\u001b[38;5;124mshare\u001b[39m\u001b[38;5;124m'\u001b[39m]\u001b[38;5;241m.\u001b[39msum()\n\u001b[0;32m      2\u001b[0m top_5_countries\u001b[38;5;241m.\u001b[39mnlargest(\u001b[38;5;241m5\u001b[39m)\n",
      "\u001b[1;31mNameError\u001b[0m: name 'internet_users' is not defined"
     ]
    }
   ],
   "source": [
    "top_5_countries = internet_users.groupby('entity')['share'].sum()\n",
    "top_5_countries.nlargest(5)"
   ]
  },
  {
   "cell_type": "markdown",
   "id": "fe34b042-87fc-4904-b241-0d4719e2fdfa",
   "metadata": {},
   "source": [
    "## What are the **top 5 countries** with the **highest internet** use for some large regions?"
   ]
  },
  {
   "cell_type": "code",
   "execution_count": 19,
   "id": "f594a375-21e0-4ffe-a048-2e205804db2b",
   "metadata": {
    "executionCancelledAt": null,
    "executionTime": 4718,
    "lastExecutedAt": 1695461830683,
    "lastScheduledRunId": null,
    "lastSuccessfullyExecutedCode": "!pip install pycountry",
    "outputsMetadata": {
     "0": {
      "height": 74,
      "type": "stream"
     }
    }
   },
   "outputs": [
    {
     "name": "stdout",
     "output_type": "stream",
     "text": [
      "Collecting pycountry\n",
      "  Downloading pycountry-24.6.1-py3-none-any.whl.metadata (12 kB)\n",
      "Downloading pycountry-24.6.1-py3-none-any.whl (6.3 MB)\n",
      "   ---------------------------------------- 0.0/6.3 MB ? eta -:--:--\n",
      "   --------- ------------------------------ 1.6/6.3 MB 10.5 MB/s eta 0:00:01\n",
      "   ------------------------ --------------- 3.9/6.3 MB 10.7 MB/s eta 0:00:01\n",
      "   ---------------------------------------  6.3/6.3 MB 11.0 MB/s eta 0:00:01\n",
      "   ---------------------------------------- 6.3/6.3 MB 10.5 MB/s eta 0:00:00\n",
      "Installing collected packages: pycountry\n",
      "Successfully installed pycountry-24.6.1\n"
     ]
    }
   ],
   "source": [
    "!pip install pycountry"
   ]
  },
  {
   "cell_type": "markdown",
   "id": "ab516296-e2f9-4a77-95cb-5d554a0485e1",
   "metadata": {},
   "source": [
    "What is the correlation between internet usage (population share) and broadband subscriptions for 2020?\n",
    "So i need to check the correlation between the columns `internet_users.shares` and `adoption.fixed_broadband_subs` in 2020 by country"
   ]
  },
  {
   "cell_type": "code",
   "execution_count": 37,
   "id": "b95c9184-f5d3-4f81-b092-14c5499d2747",
   "metadata": {
    "chartConfig": {
     "bar": {
      "hasRoundedCorners": true,
      "stacked": false
     },
     "type": "line",
     "version": "v1",
     "x": {
      "field": "entity",
      "type": "string"
     },
     "y": {
      "field": "fixed_broadband_subs",
      "type": "number"
     }
    },
    "executionCancelledAt": null,
    "executionTime": 52,
    "lastExecutedAt": 1695461830785,
    "lastScheduledRunId": null,
    "lastSuccessfullyExecutedCode": "import pandas as pd\n\n# Create a list of valid country names\nvalid_countries = [country.name for country in pycountry.countries]\n\n# Filter entities that are valid countries\nadoption_2020_by_country = adoption[adoption['entity'].isin(valid_countries)]\n\nadoption_2020_by_country = adoption_2020_by_country[adoption_2020_by_country['year'] == 2020].groupby('entity')['fixed_broadband_subs'].sum().reset_index()\nadoption_2020_by_country = adoption_2020_by_country.sort_values(by='fixed_broadband_subs', ascending=False).reset_index(drop=True)\n\ncolumns = ['entity', 'fixed_broadband_subs']\nadoption_2020_by_country.columns = columns\n\n# Sort the values by fixed broadband subs\nadoption_2020_by_country = adoption_2020_by_country.sort_values(by='fixed_broadband_subs', ascending=False).reset_index(drop=True)[1:6]\n\nadoption_2020_by_country",
    "outputsMetadata": {
     "0": {
      "height": 190,
      "type": "dataFrame"
     }
    },
    "visualizeDataframe": false
   },
   "outputs": [
    {
     "data": {
      "application/com.datacamp.data-table.v1+json": {
       "table": {
        "data": [
         {
          "entity": "United States",
          "fixed_broadband_subs": 121232000,
          "index": 1
         },
         {
          "entity": "Japan",
          "fixed_broadband_subs": 44000790,
          "index": 2
         },
         {
          "entity": "Brazil",
          "fixed_broadband_subs": 36344670,
          "index": 3
         },
         {
          "entity": "Germany",
          "fixed_broadband_subs": 36215304,
          "index": 4
         },
         {
          "entity": "France",
          "fixed_broadband_subs": 30627000,
          "index": 5
         }
        ],
        "schema": {
         "fields": [
          {
           "name": "index",
           "type": "integer"
          },
          {
           "name": "entity",
           "type": "string"
          },
          {
           "name": "fixed_broadband_subs",
           "type": "number"
          }
         ],
         "pandas_version": "1.4.0",
         "primaryKey": [
          "index"
         ]
        }
       },
       "total_rows": 5,
       "truncation_type": null
      },
      "text/html": [
       "<div>\n",
       "<style scoped>\n",
       "    .dataframe tbody tr th:only-of-type {\n",
       "        vertical-align: middle;\n",
       "    }\n",
       "\n",
       "    .dataframe tbody tr th {\n",
       "        vertical-align: top;\n",
       "    }\n",
       "\n",
       "    .dataframe thead th {\n",
       "        text-align: right;\n",
       "    }\n",
       "</style>\n",
       "<table border=\"1\" class=\"dataframe\">\n",
       "  <thead>\n",
       "    <tr style=\"text-align: right;\">\n",
       "      <th></th>\n",
       "      <th>entity</th>\n",
       "      <th>fixed_broadband_subs</th>\n",
       "    </tr>\n",
       "  </thead>\n",
       "  <tbody>\n",
       "    <tr>\n",
       "      <th>1</th>\n",
       "      <td>United States</td>\n",
       "      <td>121232000.0</td>\n",
       "    </tr>\n",
       "    <tr>\n",
       "      <th>2</th>\n",
       "      <td>Japan</td>\n",
       "      <td>44000790.0</td>\n",
       "    </tr>\n",
       "    <tr>\n",
       "      <th>3</th>\n",
       "      <td>Brazil</td>\n",
       "      <td>36344670.0</td>\n",
       "    </tr>\n",
       "    <tr>\n",
       "      <th>4</th>\n",
       "      <td>Germany</td>\n",
       "      <td>36215304.0</td>\n",
       "    </tr>\n",
       "    <tr>\n",
       "      <th>5</th>\n",
       "      <td>France</td>\n",
       "      <td>30627000.0</td>\n",
       "    </tr>\n",
       "  </tbody>\n",
       "</table>\n",
       "</div>"
      ],
      "text/plain": [
       "          entity  fixed_broadband_subs\n",
       "1  United States           121232000.0\n",
       "2          Japan            44000790.0\n",
       "3         Brazil            36344670.0\n",
       "4        Germany            36215304.0\n",
       "5         France            30627000.0"
      ]
     },
     "execution_count": 37,
     "metadata": {},
     "output_type": "execute_result"
    }
   ],
   "source": [
    "import pandas as pd\n",
    "\n",
    "# Create a list of valid country names\n",
    "valid_countries = [country.name for country in pycountry.countries]\n",
    "\n",
    "# Filter entities that are valid countries\n",
    "adoption_2020_by_country = adoption[adoption['entity'].isin(valid_countries)]\n",
    "\n",
    "adoption_2020_by_country = adoption_2020_by_country[adoption_2020_by_country['year'] == 2020].groupby('entity')['fixed_broadband_subs'].sum().reset_index()\n",
    "adoption_2020_by_country = adoption_2020_by_country.sort_values(by='fixed_broadband_subs', ascending=False).reset_index(drop=True)\n",
    "\n",
    "columns = ['entity', 'fixed_broadband_subs']\n",
    "adoption_2020_by_country.columns = columns\n",
    "\n",
    "# Sort the values by fixed broadband subs\n",
    "adoption_2020_by_country = adoption_2020_by_country.sort_values(by='fixed_broadband_subs', ascending=False).reset_index(drop=True)[1:6]\n",
    "\n",
    "adoption_2020_by_country"
   ]
  },
  {
   "cell_type": "markdown",
   "id": "95c95229-6d89-4d0c-82ec-679c5deea549",
   "metadata": {},
   "source": [
    "We are going to plot the above results in order to see their correlation "
   ]
  },
  {
   "cell_type": "code",
   "execution_count": null,
   "id": "6c95e63d",
   "metadata": {},
   "outputs": [],
   "source": []
  },
  {
   "cell_type": "code",
   "execution_count": 38,
   "id": "3d5dc258-c0be-4199-acf9-f0b9514bb1fd",
   "metadata": {
    "executionCancelledAt": null,
    "executionTime": 440,
    "lastExecutedAt": 1695461831225,
    "lastScheduledRunId": null,
    "lastSuccessfullyExecutedCode": "import matplotlib_inline\nimport matplotlib.pyplot as plt\n\n# Create a figure and axis\nfig, ax = plt.subplots()\n\n# Plot 'top_5_users' data\ntop_5_users.plot(x='entity', y='sum of internet users', label='top 5 countries by internet users', ax=ax,logy=True)\n\n# Plot 'adoption_2020_by_country' data and set the ylabel\nadoption_2020_by_country.plot(x='entity', y='fixed_broadband_subs', ax=ax, ylabel='adoption & fixed broadband subs - log',logy=True)\n\n# Rotate x-axis labels by 90 degrees\nplt.xticks(rotation=45)\n\n# Show the plot\nplt.show()"
   },
   "outputs": [
    {
     "data": {
      "image/png": "[encoded data removed]",
      "text/plain": [
       "<Figure size 640x480 with 1 Axes>"
      ]
     },
     "metadata": {},
     "output_type": "display_data"
    }
   ],
   "source": [
    "import matplotlib_inline\n",
    "import matplotlib.pyplot as plt\n",
    "\n",
    "# Create a figure and axis\n",
    "fig, ax = plt.subplots()\n",
    "\n",
    "# Plot 'top_5_users' data\n",
    "top_5_users.plot(x='entity', y='sum of internet users', label='top 5 countries by internet users', ax=ax,logy=True)\n",
    "\n",
    "# Plot 'adoption_2020_by_country' data and set the ylabel\n",
    "adoption_2020_by_country.plot(x='entity', y='fixed_broadband_subs', ax=ax, ylabel='adoption & fixed broadband subs - log',logy=True)\n",
    "\n",
    "# Rotate x-axis labels by 90 degrees\n",
    "plt.xticks(rotation=45)\n",
    "\n",
    "# Show the plot\n",
    "plt.show()\n",
    "\n",
    "#There exists a strong positive correlation between the adoption of fixed broadband services across different countries and the number of fixed broadband subscribers within those countries. This noteworthy correlation suggests that as countries invest in and expand their fixed broadband infrastructure, there is a corresponding increase in the number of individuals and households subscribing to these services.\n",
    "\n",
    "#This positive correlation underscores the significance of infrastructure development and accessibility in fostering higher broadband adoption rates. It implies that countries with robust broadband infrastructure tend to experience greater adoption by their populations, indicating a growing reliance on fixed broadband for various aspects of daily life, such as education, business, and communication."
   ]
  },
  {
   "cell_type": "code",
   "execution_count": null,
   "id": "176a64a7",
   "metadata": {},
   "outputs": [],
   "source": []
  },
  {
   "cell_type": "code",
   "execution_count": 38,
   "id": "896ace07-2df2-40b7-a32e-cdf3076c3211",
   "metadata": {
    "executionCancelledAt": null,
    "executionTime": 46,
    "lastExecutedAt": 1695461831272,
    "lastScheduledRunId": null,
    "lastSuccessfullyExecutedCode": "\n"
   },
   "outputs": [],
   "source": [
    "\n"
   ]
  }
 ],
 "metadata": {
  "editor": "DataCamp Workspace",
  "kernelspec": {
   "display_name": "Python [conda env:base] *",
   "language": "python",
   "name": "conda-base-py"
  },
  "language_info": {
   "codemirror_mode": {
    "name": "ipython",
    "version": 3
   },
   "file_extension": ".py",
   "mimetype": "text/x-python",
   "name": "python",
   "nbconvert_exporter": "python",
   "pygments_lexer": "ipython3",
   "version": "3.12.7"
  }
 },
 "nbformat": 4,
 "nbformat_minor": 5
}
